{
 "cells": [
  {
   "cell_type": "markdown",
   "metadata": {
    "colab_type": "text",
    "id": "9kR9T4LWQNIP"
   },
   "source": [
    "# Aula 5"
   ]
  },
  {
   "cell_type": "code",
   "execution_count": 1,
   "metadata": {},
   "outputs": [
    {
     "data": {
      "text/html": [
       "<div>\n",
       "<style scoped>\n",
       "    .dataframe tbody tr th:only-of-type {\n",
       "        vertical-align: middle;\n",
       "    }\n",
       "\n",
       "    .dataframe tbody tr th {\n",
       "        vertical-align: top;\n",
       "    }\n",
       "\n",
       "    .dataframe thead th {\n",
       "        text-align: right;\n",
       "    }\n",
       "</style>\n",
       "<table border=\"1\" class=\"dataframe\">\n",
       "  <thead>\n",
       "    <tr style=\"text-align: right;\">\n",
       "      <th></th>\n",
       "      <th>NU_INSCRICAO</th>\n",
       "      <th>NU_ANO</th>\n",
       "      <th>CO_MUNICIPIO_RESIDENCIA</th>\n",
       "      <th>NO_MUNICIPIO_RESIDENCIA</th>\n",
       "      <th>CO_UF_RESIDENCIA</th>\n",
       "      <th>SG_UF_RESIDENCIA</th>\n",
       "      <th>NU_IDADE</th>\n",
       "      <th>TP_SEXO</th>\n",
       "      <th>TP_ESTADO_CIVIL</th>\n",
       "      <th>TP_COR_RACA</th>\n",
       "      <th>...</th>\n",
       "      <th>Q018</th>\n",
       "      <th>Q019</th>\n",
       "      <th>Q020</th>\n",
       "      <th>Q021</th>\n",
       "      <th>Q022</th>\n",
       "      <th>Q023</th>\n",
       "      <th>Q024</th>\n",
       "      <th>Q025</th>\n",
       "      <th>Q026</th>\n",
       "      <th>Q027</th>\n",
       "    </tr>\n",
       "  </thead>\n",
       "  <tbody>\n",
       "    <tr>\n",
       "      <th>0</th>\n",
       "      <td>180009327796</td>\n",
       "      <td>2018</td>\n",
       "      <td>2112209</td>\n",
       "      <td>Timon</td>\n",
       "      <td>21</td>\n",
       "      <td>MA</td>\n",
       "      <td>34.0</td>\n",
       "      <td>M</td>\n",
       "      <td>1.0</td>\n",
       "      <td>1</td>\n",
       "      <td>...</td>\n",
       "      <td>A</td>\n",
       "      <td>B</td>\n",
       "      <td>A</td>\n",
       "      <td>A</td>\n",
       "      <td>C</td>\n",
       "      <td>A</td>\n",
       "      <td>B</td>\n",
       "      <td>B</td>\n",
       "      <td>A</td>\n",
       "      <td>A</td>\n",
       "    </tr>\n",
       "    <tr>\n",
       "      <th>1</th>\n",
       "      <td>180012890374</td>\n",
       "      <td>2018</td>\n",
       "      <td>3557105</td>\n",
       "      <td>Votuporanga</td>\n",
       "      <td>35</td>\n",
       "      <td>SP</td>\n",
       "      <td>14.0</td>\n",
       "      <td>M</td>\n",
       "      <td>0.0</td>\n",
       "      <td>1</td>\n",
       "      <td>...</td>\n",
       "      <td>A</td>\n",
       "      <td>C</td>\n",
       "      <td>A</td>\n",
       "      <td>B</td>\n",
       "      <td>E</td>\n",
       "      <td>B</td>\n",
       "      <td>D</td>\n",
       "      <td>B</td>\n",
       "      <td>D</td>\n",
       "      <td>D</td>\n",
       "    </tr>\n",
       "    <tr>\n",
       "      <th>2</th>\n",
       "      <td>180008223824</td>\n",
       "      <td>2018</td>\n",
       "      <td>2506301</td>\n",
       "      <td>Guarabira</td>\n",
       "      <td>25</td>\n",
       "      <td>PB</td>\n",
       "      <td>20.0</td>\n",
       "      <td>F</td>\n",
       "      <td>0.0</td>\n",
       "      <td>2</td>\n",
       "      <td>...</td>\n",
       "      <td>A</td>\n",
       "      <td>B</td>\n",
       "      <td>A</td>\n",
       "      <td>A</td>\n",
       "      <td>D</td>\n",
       "      <td>A</td>\n",
       "      <td>B</td>\n",
       "      <td>B</td>\n",
       "      <td>A</td>\n",
       "      <td>E</td>\n",
       "    </tr>\n",
       "    <tr>\n",
       "      <th>3</th>\n",
       "      <td>180007859645</td>\n",
       "      <td>2018</td>\n",
       "      <td>3534807</td>\n",
       "      <td>Ouro Verde</td>\n",
       "      <td>35</td>\n",
       "      <td>SP</td>\n",
       "      <td>17.0</td>\n",
       "      <td>F</td>\n",
       "      <td>0.0</td>\n",
       "      <td>2</td>\n",
       "      <td>...</td>\n",
       "      <td>A</td>\n",
       "      <td>B</td>\n",
       "      <td>A</td>\n",
       "      <td>A</td>\n",
       "      <td>E</td>\n",
       "      <td>A</td>\n",
       "      <td>A</td>\n",
       "      <td>A</td>\n",
       "      <td>B</td>\n",
       "      <td>A</td>\n",
       "    </tr>\n",
       "    <tr>\n",
       "      <th>4</th>\n",
       "      <td>180013499517</td>\n",
       "      <td>2018</td>\n",
       "      <td>3523107</td>\n",
       "      <td>Itaquaquecetuba</td>\n",
       "      <td>35</td>\n",
       "      <td>SP</td>\n",
       "      <td>19.0</td>\n",
       "      <td>M</td>\n",
       "      <td>0.0</td>\n",
       "      <td>3</td>\n",
       "      <td>...</td>\n",
       "      <td>A</td>\n",
       "      <td>B</td>\n",
       "      <td>A</td>\n",
       "      <td>A</td>\n",
       "      <td>D</td>\n",
       "      <td>B</td>\n",
       "      <td>B</td>\n",
       "      <td>B</td>\n",
       "      <td>A</td>\n",
       "      <td>A</td>\n",
       "    </tr>\n",
       "  </tbody>\n",
       "</table>\n",
       "<p>5 rows × 137 columns</p>\n",
       "</div>"
      ],
      "text/plain": [
       "   NU_INSCRICAO  NU_ANO  CO_MUNICIPIO_RESIDENCIA NO_MUNICIPIO_RESIDENCIA  \\\n",
       "0  180009327796    2018                  2112209                   Timon   \n",
       "1  180012890374    2018                  3557105             Votuporanga   \n",
       "2  180008223824    2018                  2506301               Guarabira   \n",
       "3  180007859645    2018                  3534807              Ouro Verde   \n",
       "4  180013499517    2018                  3523107         Itaquaquecetuba   \n",
       "\n",
       "   CO_UF_RESIDENCIA SG_UF_RESIDENCIA  NU_IDADE TP_SEXO  TP_ESTADO_CIVIL  \\\n",
       "0                21               MA      34.0       M              1.0   \n",
       "1                35               SP      14.0       M              0.0   \n",
       "2                25               PB      20.0       F              0.0   \n",
       "3                35               SP      17.0       F              0.0   \n",
       "4                35               SP      19.0       M              0.0   \n",
       "\n",
       "   TP_COR_RACA  ...  Q018  Q019 Q020  Q021 Q022  Q023  Q024  Q025  Q026  Q027  \n",
       "0            1  ...     A     B    A     A    C     A     B     B     A     A  \n",
       "1            1  ...     A     C    A     B    E     B     D     B     D     D  \n",
       "2            2  ...     A     B    A     A    D     A     B     B     A     E  \n",
       "3            2  ...     A     B    A     A    E     A     A     A     B     A  \n",
       "4            3  ...     A     B    A     A    D     B     B     B     A     A  \n",
       "\n",
       "[5 rows x 137 columns]"
      ]
     },
     "execution_count": 1,
     "metadata": {},
     "output_type": "execute_result"
    }
   ],
   "source": [
    "import pandas as pd\n",
    "import matplotlib.pyplot as plt\n",
    "import seaborn as sns\n",
    "import numpy as np\n",
    "from sklearn.model_selection import train_test_split\n",
    "\n",
    "#%precision %.2f\n",
    "#pd.options.display.float_format = '{:,.2f}'.format\n",
    "\n",
    "dados = pd.read_csv('enem_2018.csv')\n",
    "dados.head()"
   ]
  },
  {
   "cell_type": "code",
   "execution_count": 2,
   "metadata": {},
   "outputs": [],
   "source": [
    "colunas_notas = ['NU_NOTA_CN', 'NU_NOTA_CH', 'NU_NOTA_MT', 'NU_NOTA_REDACAO', 'NU_NOTA_LC']\n",
    "dados = dados[colunas_notas].fillna(value=0.0)"
   ]
  },
  {
   "cell_type": "code",
   "execution_count": 3,
   "metadata": {},
   "outputs": [
    {
     "data": {
      "text/html": [
       "<div>\n",
       "<style scoped>\n",
       "    .dataframe tbody tr th:only-of-type {\n",
       "        vertical-align: middle;\n",
       "    }\n",
       "\n",
       "    .dataframe tbody tr th {\n",
       "        vertical-align: top;\n",
       "    }\n",
       "\n",
       "    .dataframe thead th {\n",
       "        text-align: right;\n",
       "    }\n",
       "</style>\n",
       "<table border=\"1\" class=\"dataframe\">\n",
       "  <thead>\n",
       "    <tr style=\"text-align: right;\">\n",
       "      <th></th>\n",
       "      <th>NU_NOTA_CN</th>\n",
       "      <th>NU_NOTA_CH</th>\n",
       "      <th>NU_NOTA_MT</th>\n",
       "      <th>NU_NOTA_REDACAO</th>\n",
       "    </tr>\n",
       "  </thead>\n",
       "  <tbody>\n",
       "    <tr>\n",
       "      <th>0</th>\n",
       "      <td>0.0</td>\n",
       "      <td>0.0</td>\n",
       "      <td>0.0</td>\n",
       "      <td>0.0</td>\n",
       "    </tr>\n",
       "    <tr>\n",
       "      <th>1</th>\n",
       "      <td>523.1</td>\n",
       "      <td>671.3</td>\n",
       "      <td>738.0</td>\n",
       "      <td>680.0</td>\n",
       "    </tr>\n",
       "    <tr>\n",
       "      <th>2</th>\n",
       "      <td>409.2</td>\n",
       "      <td>531.7</td>\n",
       "      <td>438.1</td>\n",
       "      <td>600.0</td>\n",
       "    </tr>\n",
       "    <tr>\n",
       "      <th>3</th>\n",
       "      <td>452.3</td>\n",
       "      <td>505.5</td>\n",
       "      <td>544.9</td>\n",
       "      <td>400.0</td>\n",
       "    </tr>\n",
       "    <tr>\n",
       "      <th>4</th>\n",
       "      <td>0.0</td>\n",
       "      <td>0.0</td>\n",
       "      <td>0.0</td>\n",
       "      <td>0.0</td>\n",
       "    </tr>\n",
       "  </tbody>\n",
       "</table>\n",
       "</div>"
      ],
      "text/plain": [
       "   NU_NOTA_CN  NU_NOTA_CH  NU_NOTA_MT  NU_NOTA_REDACAO\n",
       "0         0.0         0.0         0.0              0.0\n",
       "1       523.1       671.3       738.0            680.0\n",
       "2       409.2       531.7       438.1            600.0\n",
       "3       452.3       505.5       544.9            400.0\n",
       "4         0.0         0.0         0.0              0.0"
      ]
     },
     "execution_count": 3,
     "metadata": {},
     "output_type": "execute_result"
    }
   ],
   "source": [
    "X = dados[colunas_notas].drop('NU_NOTA_LC', axis=1)\n",
    "X.head()"
   ]
  },
  {
   "cell_type": "code",
   "execution_count": 4,
   "metadata": {},
   "outputs": [],
   "source": [
    "y = dados['NU_NOTA_LC']"
   ]
  },
  {
   "cell_type": "code",
   "execution_count": 5,
   "metadata": {},
   "outputs": [],
   "source": [
    "np.random.seed(43267)\n",
    "x_treino, x_teste, y_treino, y_teste = train_test_split(X, y, test_size=0.35)"
   ]
  },
  {
   "cell_type": "markdown",
   "metadata": {
    "colab_type": "text",
    "id": "kwPpG_bi4MG1"
   },
   "source": [
    "## Desafio 1 da [Allan Spadini](https://twitter.com/allanspadini)\n",
    "\n",
    "Explore os parâmetros C e o max_iter do modelo LinesSVR. Não há garantias que o resultado será melhor."
   ]
  },
  {
   "cell_type": "code",
   "execution_count": 6,
   "metadata": {},
   "outputs": [
    {
     "name": "stderr",
     "output_type": "stream",
     "text": [
      "C:\\ProgramData\\Anaconda3\\lib\\site-packages\\sklearn\\svm\\_base.py:947: ConvergenceWarning: Liblinear failed to converge, increase the number of iterations.\n",
      "  \"the number of iterations.\", ConvergenceWarning)\n"
     ]
    },
    {
     "data": {
      "text/plain": [
       "LinearSVR(C=1.0, dual=True, epsilon=0.0, fit_intercept=True,\n",
       "          intercept_scaling=1.0, loss='epsilon_insensitive', max_iter=1000,\n",
       "          random_state=None, tol=1e-05, verbose=0)"
      ]
     },
     "execution_count": 6,
     "metadata": {},
     "output_type": "execute_result"
    }
   ],
   "source": [
    "from sklearn.svm import LinearSVR\n",
    "from sklearn.metrics import mean_squared_error\n",
    "\n",
    "modelo = LinearSVR(epsilon=0.0, tol=0.00001, C=1.0)\n",
    "modelo.fit(x_treino, y_treino)"
   ]
  },
  {
   "cell_type": "code",
   "execution_count": 7,
   "metadata": {},
   "outputs": [
    {
     "data": {
      "text/plain": [
       "array([-7.80859432e-06,  3.94382396e+02,  5.57409519e+02, -7.80859432e-06,\n",
       "        3.78026433e+02])"
      ]
     },
     "execution_count": 7,
     "metadata": {},
     "output_type": "execute_result"
    }
   ],
   "source": [
    "predicoes = modelo.predict(x_teste)\n",
    "predicoes[:5]"
   ]
  },
  {
   "cell_type": "code",
   "execution_count": 8,
   "metadata": {},
   "outputs": [
    {
     "data": {
      "text/plain": [
       "array([  0. , 476.3, 625.6,   0. , 464.9])"
      ]
     },
     "execution_count": 8,
     "metadata": {},
     "output_type": "execute_result"
    }
   ],
   "source": [
    "y_teste[:5].values"
   ]
  },
  {
   "cell_type": "code",
   "execution_count": 9,
   "metadata": {},
   "outputs": [
    {
     "data": {
      "text/plain": [
       "2660.933646583136"
      ]
     },
     "execution_count": 9,
     "metadata": {},
     "output_type": "execute_result"
    }
   ],
   "source": [
    "mean_squared_error(predicoes, y_teste)"
   ]
  },
  {
   "cell_type": "markdown",
   "metadata": {},
   "source": [
    " \n",
    "  \n",
    "  \n",
    "   \n",
    "  "
   ]
  },
  {
   "cell_type": "code",
   "execution_count": 10,
   "metadata": {},
   "outputs": [],
   "source": [
    "config_start = 1\n",
    "config_n = 50\n",
    "config_step = 2.5\n",
    "\n",
    "config_c = np.arange(config_start, config_n, config_step)\n",
    "config_models = len(config_c)"
   ]
  },
  {
   "cell_type": "code",
   "execution_count": 11,
   "metadata": {},
   "outputs": [],
   "source": [
    "modelos = [LinearSVR(epsilon=0.0, tol=0.0001, C=i) for i in config_c]"
   ]
  },
  {
   "cell_type": "code",
   "execution_count": null,
   "metadata": {},
   "outputs": [
    {
     "name": "stderr",
     "output_type": "stream",
     "text": [
      "C:\\ProgramData\\Anaconda3\\lib\\site-packages\\sklearn\\svm\\_base.py:947: ConvergenceWarning: Liblinear failed to converge, increase the number of iterations.\n",
      "  \"the number of iterations.\", ConvergenceWarning)\n",
      "C:\\ProgramData\\Anaconda3\\lib\\site-packages\\sklearn\\svm\\_base.py:947: ConvergenceWarning: Liblinear failed to converge, increase the number of iterations.\n",
      "  \"the number of iterations.\", ConvergenceWarning)\n",
      "C:\\ProgramData\\Anaconda3\\lib\\site-packages\\sklearn\\svm\\_base.py:947: ConvergenceWarning: Liblinear failed to converge, increase the number of iterations.\n",
      "  \"the number of iterations.\", ConvergenceWarning)\n"
     ]
    }
   ],
   "source": [
    "modelos_fit = [modelos[i].fit(x_treino, y_treino) for i in range(0,config_models)]"
   ]
  },
  {
   "cell_type": "code",
   "execution_count": null,
   "metadata": {},
   "outputs": [],
   "source": [
    "predicoes_modelos = [modelos[i].predict(x_teste) for i in range(0,config_models)]"
   ]
  },
  {
   "cell_type": "code",
   "execution_count": null,
   "metadata": {},
   "outputs": [],
   "source": [
    "erros = [mean_squared_error(predicoes_modelos[i], y_teste) for i in range(0,config_models)]"
   ]
  },
  {
   "cell_type": "code",
   "execution_count": null,
   "metadata": {},
   "outputs": [],
   "source": [
    "plt.figure(figsize=(16,5))\n",
    "sns.lineplot(\n",
    "    config_c,\n",
    "    erros\n",
    ")"
   ]
  },
  {
   "cell_type": "code",
   "execution_count": null,
   "metadata": {},
   "outputs": [],
   "source": [
    "df_comp = pd.DataFrame([config_c, erros], index=['C','erro']).T\n",
    "df_comp.sort_values('erro').head()"
   ]
  },
  {
   "cell_type": "markdown",
   "metadata": {
    "colab_type": "text",
    "id": "Y8Tk3fr_6vDR"
   },
   "source": [
    "## Desafio 2 do [Thiago Gonçalves](https://twitter.com/tgcsantos)\n",
    "\n",
    "No gráfico em que plotamos a média com o valor previsto, plote a média das 4 notas ao invés de uma."
   ]
  },
  {
   "cell_type": "code",
   "execution_count": null,
   "metadata": {},
   "outputs": [],
   "source": [
    "f, axes = plt.subplots(2, 2, figsize=(16, 10), sharex=True)\n",
    "\n",
    "sns.scatterplot(x=x_teste['NU_NOTA_CN'].values, y=predicoes[0], ax=axes[0, 0])\n",
    "sns.scatterplot(x=x_teste['NU_NOTA_CN'].values, y=y_teste.values, ax=axes[0, 0])\n",
    "\n",
    "sns.scatterplot(x=x_teste['NU_NOTA_MT'].values, y=predicoes[0], ax=axes[0, 1])\n",
    "sns.scatterplot(x=x_teste['NU_NOTA_MT'].values, y=y_teste.values, ax=axes[0, 1])\n",
    "\n",
    "sns.scatterplot(x=x_teste['NU_NOTA_CH'].values, y=predicoes[0], ax=axes[1, 0])\n",
    "sns.scatterplot(x=x_teste['NU_NOTA_CH'].values, y=y_teste.values, ax=axes[1, 0])\n",
    "\n",
    "sns.scatterplot(x=x_teste['NU_NOTA_REDACAO'].values, y=predicoes[0], ax=axes[1, 1])\n",
    "sns.scatterplot(x=x_teste['NU_NOTA_REDACAO'].values, y=y_teste.values, ax=axes[1, 1])\n",
    "\n",
    "plt.show()"
   ]
  },
  {
   "cell_type": "markdown",
   "metadata": {
    "colab_type": "text",
    "id": "13DD9vRM8u9y"
   },
   "source": [
    "## Desafio 3 do [Paulo Silveira](https://twitter.com/paulo_caelum)\n",
    "\n",
    "\n",
    "Remover as notas zero e testar os mesmos modelos, comparando o resultado"
   ]
  },
  {
   "cell_type": "code",
   "execution_count": null,
   "metadata": {},
   "outputs": [],
   "source": [
    "dados = pd.read_csv('enem_2018.csv')\n",
    "colunas_notas = ['NU_NOTA_CN', 'NU_NOTA_CH', 'NU_NOTA_MT', 'NU_NOTA_REDACAO', 'NU_NOTA_LC']\n",
    "dados = dados[colunas_notas].dropna()\n",
    "\n",
    "filtro = dados.query('NU_NOTA_CN>0 & NU_NOTA_CH>0 & NU_NOTA_MT>0 & NU_NOTA_REDACAO>0 & NU_NOTA_LC>0')\n",
    "dados = dados.loc[filtro.index]"
   ]
  },
  {
   "cell_type": "code",
   "execution_count": null,
   "metadata": {},
   "outputs": [],
   "source": [
    "X = dados[colunas_notas].drop('NU_NOTA_LC', axis=1)\n",
    "y = dados['NU_NOTA_LC']\n",
    "\n",
    "x_treino, x_teste, y_treino, y_teste = train_test_split(X, y, test_size=0.35)"
   ]
  },
  {
   "cell_type": "code",
   "execution_count": null,
   "metadata": {},
   "outputs": [],
   "source": [
    "modelo_zero = LinearSVR(epsilon=0.0, tol=0.00001, C=1.0)\n",
    "modelo_zero.fit(x_treino, y_treino)\n",
    "\n",
    "predicoes = modelo_zero.predict(x_teste)"
   ]
  },
  {
   "cell_type": "code",
   "execution_count": null,
   "metadata": {},
   "outputs": [],
   "source": [
    "mean_squared_error(predicoes, y_teste)"
   ]
  },
  {
   "cell_type": "markdown",
   "metadata": {
    "colab_type": "text",
    "id": "WHrQGdesBDJp"
   },
   "source": [
    "## Desafio 4 do [Guilherme Silveira](https://twitter.com/guilhermecaelum)\n",
    "\n",
    "Interpretar tudo que foi feito e compartilhar suas conclusões"
   ]
  },
  {
   "cell_type": "markdown",
   "metadata": {
    "colab_type": "text",
    "id": "w5nybh8yBOT3"
   },
   "source": [
    "## Desafio 5 do [Thiago Gonçalves](https://twitter.com/tgcsantos)\n",
    "\n",
    "Calcule as métricas de erro que utilizamos (mean square root error) também no conjunto de treino, e veja o que acontece comparado com o conjunto de teste."
   ]
  },
  {
   "cell_type": "code",
   "execution_count": null,
   "metadata": {},
   "outputs": [],
   "source": [
    "x_treino, x_teste, y_treino, y_teste = train_test_split(X, y, test_size=0.5)"
   ]
  },
  {
   "cell_type": "code",
   "execution_count": null,
   "metadata": {},
   "outputs": [],
   "source": [
    "x_teste = x_teste.iloc[1:]\n",
    "y_teste= y_teste.iloc[1:]"
   ]
  },
  {
   "cell_type": "code",
   "execution_count": null,
   "metadata": {},
   "outputs": [],
   "source": [
    "modelo_zero = LinearSVR(epsilon=0.0, tol=0.00001, C=1.0)\n",
    "modelo_zero.fit(x_treino, y_treino)\n",
    "\n",
    "predicoes = modelo_zero.predict(x_teste)"
   ]
  },
  {
   "cell_type": "code",
   "execution_count": null,
   "metadata": {},
   "outputs": [],
   "source": [
    "mean_squared_error(predicoes, y_treino)"
   ]
  },
  {
   "cell_type": "markdown",
   "metadata": {
    "colab_type": "text",
    "id": "yN729smrZJUO"
   },
   "source": [
    "#Não esqueça de compartilhar a solução dos seus desafios com nossos instrutores, seja no Twitter, seja LinkedIn. Boa sorte!"
   ]
  }
 ],
 "metadata": {
  "colab": {
   "collapsed_sections": [
    "qBImDJ6cJmnM"
   ],
   "name": "QuarentenaDados - Aula05",
   "provenance": []
  },
  "kernelspec": {
   "display_name": "Python 3",
   "language": "python",
   "name": "python3"
  },
  "language_info": {
   "codemirror_mode": {
    "name": "ipython",
    "version": 3
   },
   "file_extension": ".py",
   "mimetype": "text/x-python",
   "name": "python",
   "nbconvert_exporter": "python",
   "pygments_lexer": "ipython3",
   "version": "3.7.6"
  }
 },
 "nbformat": 4,
 "nbformat_minor": 1
}
